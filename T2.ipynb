{
 "cells": [
  {
   "cell_type": "code",
   "execution_count": 199,
   "id": "0d507ea7",
   "metadata": {},
   "outputs": [],
   "source": [
    "import pandas as  pd\n",
    "import numpy as np\n",
    "import matplotlib.pyplot as plt"
   ]
  },
  {
   "cell_type": "code",
   "execution_count": 200,
   "id": "6f1d1344",
   "metadata": {},
   "outputs": [
    {
     "data": {
      "text/html": [
       "<div>\n",
       "<style scoped>\n",
       "    .dataframe tbody tr th:only-of-type {\n",
       "        vertical-align: middle;\n",
       "    }\n",
       "\n",
       "    .dataframe tbody tr th {\n",
       "        vertical-align: top;\n",
       "    }\n",
       "\n",
       "    .dataframe thead th {\n",
       "        text-align: right;\n",
       "    }\n",
       "</style>\n",
       "<table border=\"1\" class=\"dataframe\">\n",
       "  <thead>\n",
       "    <tr style=\"text-align: right;\">\n",
       "      <th></th>\n",
       "      <th>age</th>\n",
       "      <th>sex</th>\n",
       "      <th>cp</th>\n",
       "      <th>trtbps</th>\n",
       "      <th>chol</th>\n",
       "      <th>fbs</th>\n",
       "      <th>restecg</th>\n",
       "      <th>thalachh</th>\n",
       "      <th>exng</th>\n",
       "      <th>oldpeak</th>\n",
       "      <th>slp</th>\n",
       "      <th>caa</th>\n",
       "      <th>thall</th>\n",
       "      <th>output</th>\n",
       "    </tr>\n",
       "  </thead>\n",
       "  <tbody>\n",
       "    <tr>\n",
       "      <th>0</th>\n",
       "      <td>63</td>\n",
       "      <td>1</td>\n",
       "      <td>3</td>\n",
       "      <td>145</td>\n",
       "      <td>233</td>\n",
       "      <td>1</td>\n",
       "      <td>0</td>\n",
       "      <td>150</td>\n",
       "      <td>0</td>\n",
       "      <td>2.3</td>\n",
       "      <td>0</td>\n",
       "      <td>0</td>\n",
       "      <td>1</td>\n",
       "      <td>1</td>\n",
       "    </tr>\n",
       "    <tr>\n",
       "      <th>1</th>\n",
       "      <td>37</td>\n",
       "      <td>1</td>\n",
       "      <td>2</td>\n",
       "      <td>130</td>\n",
       "      <td>250</td>\n",
       "      <td>0</td>\n",
       "      <td>1</td>\n",
       "      <td>187</td>\n",
       "      <td>0</td>\n",
       "      <td>3.5</td>\n",
       "      <td>0</td>\n",
       "      <td>0</td>\n",
       "      <td>2</td>\n",
       "      <td>1</td>\n",
       "    </tr>\n",
       "    <tr>\n",
       "      <th>2</th>\n",
       "      <td>41</td>\n",
       "      <td>0</td>\n",
       "      <td>1</td>\n",
       "      <td>130</td>\n",
       "      <td>204</td>\n",
       "      <td>0</td>\n",
       "      <td>0</td>\n",
       "      <td>172</td>\n",
       "      <td>0</td>\n",
       "      <td>1.4</td>\n",
       "      <td>2</td>\n",
       "      <td>0</td>\n",
       "      <td>2</td>\n",
       "      <td>1</td>\n",
       "    </tr>\n",
       "    <tr>\n",
       "      <th>3</th>\n",
       "      <td>56</td>\n",
       "      <td>1</td>\n",
       "      <td>1</td>\n",
       "      <td>120</td>\n",
       "      <td>236</td>\n",
       "      <td>0</td>\n",
       "      <td>1</td>\n",
       "      <td>178</td>\n",
       "      <td>0</td>\n",
       "      <td>0.8</td>\n",
       "      <td>2</td>\n",
       "      <td>0</td>\n",
       "      <td>2</td>\n",
       "      <td>1</td>\n",
       "    </tr>\n",
       "    <tr>\n",
       "      <th>4</th>\n",
       "      <td>57</td>\n",
       "      <td>0</td>\n",
       "      <td>0</td>\n",
       "      <td>120</td>\n",
       "      <td>354</td>\n",
       "      <td>0</td>\n",
       "      <td>1</td>\n",
       "      <td>163</td>\n",
       "      <td>1</td>\n",
       "      <td>0.6</td>\n",
       "      <td>2</td>\n",
       "      <td>0</td>\n",
       "      <td>2</td>\n",
       "      <td>1</td>\n",
       "    </tr>\n",
       "  </tbody>\n",
       "</table>\n",
       "</div>"
      ],
      "text/plain": [
       "   age  sex  cp  trtbps  chol  fbs  restecg  thalachh  exng  oldpeak  slp  \\\n",
       "0   63    1   3     145   233    1        0       150     0      2.3    0   \n",
       "1   37    1   2     130   250    0        1       187     0      3.5    0   \n",
       "2   41    0   1     130   204    0        0       172     0      1.4    2   \n",
       "3   56    1   1     120   236    0        1       178     0      0.8    2   \n",
       "4   57    0   0     120   354    0        1       163     1      0.6    2   \n",
       "\n",
       "   caa  thall  output  \n",
       "0    0      1       1  \n",
       "1    0      2       1  \n",
       "2    0      2       1  \n",
       "3    0      2       1  \n",
       "4    0      2       1  "
      ]
     },
     "execution_count": 200,
     "metadata": {},
     "output_type": "execute_result"
    }
   ],
   "source": [
    "df = pd.read_csv(\"heart.csv\")\n",
    "data = df[['age', 'sex', 'cp', 'trtbps', 'chol', 'fbs', 'restecg', 'thalachh',\n",
    "            'exng', 'oldpeak', 'slp', 'caa', 'thall']]\n",
    "df.head()"
   ]
  },
  {
   "cell_type": "code",
   "execution_count": 201,
   "id": "b3773872",
   "metadata": {},
   "outputs": [],
   "source": [
    "from sklearn.preprocessing import StandardScaler\n",
    "sclaer = StandardScaler().fit(data)\n",
    "data = sclaer.transform(data)"
   ]
  },
  {
   "cell_type": "code",
   "execution_count": 202,
   "id": "a9220068",
   "metadata": {},
   "outputs": [
    {
     "data": {
      "text/plain": [
       "array([[-0.92271345,  0.68100522,  0.03203122, -1.74901199, -0.95205107,\n",
       "         2.394438  ,  0.89896224,  0.27782582, -0.69663055, -0.89686172,\n",
       "         0.97635214, -0.71442887,  1.12302895],\n",
       "       [ 0.5110413 ,  0.68100522, -0.93851463,  1.84910094, -1.3578862 ,\n",
       "         2.394438  , -1.00583187, -2.60838751, -0.69663055, -0.03416616,\n",
       "        -0.64911323,  1.24459328, -2.14887271],\n",
       "       [ 0.73161895,  0.68100522,  1.97312292,  0.13571383, -0.23700823,\n",
       "        -0.41763453,  0.89896224, -0.20320974, -0.69663055,  1.34614673,\n",
       "        -0.64911323,  1.24459328, -0.51292188],\n",
       "       [-2.13589054,  0.68100522, -0.93851463, -0.66386682, -0.93272559,\n",
       "        -0.41763453,  0.89896224, -0.85916731,  1.43548113,  0.48345117,\n",
       "        -0.64911323, -0.71442887,  1.12302895],\n",
       "       [ 0.5110413 ,  0.68100522, -0.93851463,  0.47839125, -1.33856072,\n",
       "        -0.41763453,  0.89896224,  0.54020884,  1.43548113, -0.89686172,\n",
       "         0.97635214,  0.26508221,  1.12302895],\n",
       "       [ 0.06988599,  0.68100522,  0.03203122, -0.09273778,  0.30410528,\n",
       "        -0.41763453,  0.89896224,  0.23409531, -0.69663055, -0.89686172,\n",
       "         0.97635214, -0.71442887, -0.51292188],\n",
       "       [ 0.18017482,  0.68100522,  0.03203122, -0.09273778, -0.4882395 ,\n",
       "        -0.41763453, -1.00583187,  0.58393935, -0.69663055, -0.89686172,\n",
       "         0.97635214, -0.71442887,  1.12302895],\n",
       "       [ 0.29046364,  0.68100522, -0.93851463,  1.1637461 ,  0.53601107,\n",
       "        -0.41763453,  0.89896224, -2.69584852,  1.43548113,  0.13837295,\n",
       "        -0.64911323,  0.26508221,  1.12302895],\n",
       "       [-0.37126932,  0.68100522, -0.93851463,  0.47839125,  0.99982264,\n",
       "        -0.41763453,  0.89896224, -1.20901135,  1.43548113,  2.72645962,\n",
       "        -0.64911323,  2.22410436,  1.12302895],\n",
       "       [ 0.29046364,  0.68100522, -0.93851463, -1.23499586, -0.87474914,\n",
       "        -0.41763453,  0.89896224, -1.03408933,  1.43548113,  0.39718162,\n",
       "        -0.64911323, -0.71442887, -2.14887271]])"
      ]
     },
     "execution_count": 202,
     "metadata": {},
     "output_type": "execute_result"
    }
   ],
   "source": [
    "from sklearn.model_selection import train_test_split\n",
    "X_train , X_test , Y_train , Y_test = train_test_split(data,df['output'])\n",
    "X_train[:10]"
   ]
  },
  {
   "cell_type": "code",
   "execution_count": 203,
   "id": "f505a62e",
   "metadata": {},
   "outputs": [
    {
     "data": {
      "image/png": "[encoded data removed]",
      "text/plain": [
       "<Figure size 432x288 with 1 Axes>"
      ]
     },
     "metadata": {
      "needs_background": "light"
     },
     "output_type": "display_data"
    },
    {
     "data": {
      "image/png": "[encoded data removed]",
      "text/plain": [
       "<Figure size 432x288 with 1 Axes>"
      ]
     },
     "metadata": {
      "needs_background": "light"
     },
     "output_type": "display_data"
    }
   ],
   "source": [
    "def draw(column):\n",
    "    plt.scatter(df[column],df['output'])\n",
    "    plt.title(column)\n",
    "    plt.show()\n",
    "###\n",
    "draw(\"age\")\n",
    "draw(\"sex\")\n",
    "# ..."
   ]
  },
  {
   "cell_type": "code",
   "execution_count": 204,
   "id": "bc1840b0",
   "metadata": {},
   "outputs": [],
   "source": [
    "# loss func\n",
    "def loss(y_pre,y_test):\n",
    "    correct_pre  = 0\n",
    "    for i in range(len(y_pre)):\n",
    "        if y_pre[i] == y_test[i]:\n",
    "            correct_pre += 1\n",
    "    print(correct_pre/len(y_pre))"
   ]
  },
  {
   "cell_type": "code",
   "execution_count": 205,
   "id": "3c05cce7",
   "metadata": {},
   "outputs": [
    {
     "name": "stdout",
     "output_type": "stream",
     "text": [
      "0.8026315789473685\n"
     ]
    }
   ],
   "source": [
    "# KNN\n",
    "from sklearn.neighbors import KNeighborsClassifier\n",
    "\n",
    "model = KNeighborsClassifier(n_neighbors=20 , weights=\"distance\" , algorithm=\"auto\")\n",
    "'''\n",
    "n_neighbors: Number of neighbors to use\n",
    "Weight function used in prediction. Possible values: uniform(all poins are same) , distance(weight points by the inverse of their distance)\n",
    "algorithm: auto(automatic find best algorithm) , balltree , KDtree \n",
    "'''\n",
    "model.fit(X_train , Y_train)\n",
    "\n",
    "# find loss\n",
    "Y_pre1 = model.predict(X_test)\n",
    "loss(Y_pre1,Y_test.values)"
   ]
  },
  {
   "cell_type": "code",
   "execution_count": 206,
   "id": "bcfa8a36",
   "metadata": {},
   "outputs": [
    {
     "name": "stdout",
     "output_type": "stream",
     "text": [
      "0.8026315789473685\n"
     ]
    }
   ],
   "source": [
    "# Tree\n",
    "from sklearn.tree import DecisionTreeClassifier\n",
    "tree = DecisionTreeClassifier()\n",
    "tree.fit(X_train,Y_train)\n",
    "\n",
    "# find loss\n",
    "Y_pre2 = tree.predict(X_test)\n",
    "loss(Y_pre2,Y_test.values)"
   ]
  },
  {
   "cell_type": "code",
   "execution_count": 207,
   "id": "ac9c7f30",
   "metadata": {},
   "outputs": [
    {
     "name": "stdout",
     "output_type": "stream",
     "text": [
      "0.8289473684210527\n"
     ]
    }
   ],
   "source": [
    "# SVM\n",
    "from sklearn.svm import SVC\n",
    "svc = SVC(C=1 , kernel='rbf' , gamma=0.01)\n",
    "'''\n",
    "C: Regularization parameter\n",
    "kernel : Specifies the kernel type to be used in the algorithm\n",
    "1^^^ linear : The most basic way to use a SVC is with a linear kernel. it is not very good\n",
    "2^^^ sigmoid : 1/(1+e^x) --> 0,1\n",
    "3^^^ poly : in the polynomial kernel, we simply calculate the dot product by increasing the power of the kernel\n",
    "4^^^ rbf : the squared Euclidean distance between two data points \n",
    "\n",
    "gamma : the decision region (The higher it is, the smaller the radius of each point)\n",
    "C : The higher it is, the higher the penalty for each error\n",
    "'''\n",
    "svc.fit(X_train,Y_train)\n",
    "\n",
    "# find loss\n",
    "Y_pre3 = svc.predict(X_test)\n",
    "loss(Y_pre3,Y_test.values)"
   ]
  },
  {
   "cell_type": "code",
   "execution_count": 208,
   "id": "4f3fdc16",
   "metadata": {},
   "outputs": [
    {
     "name": "stdout",
     "output_type": "stream",
     "text": [
      "0.8421052631578947\n"
     ]
    }
   ],
   "source": [
    "# Logistic\n",
    "from sklearn.linear_model import LogisticRegression\n",
    "logistic = LogisticRegression()\n",
    "logistic.fit(X_train,Y_train)\n",
    "\n",
    "# find loss\n",
    "Y_pre4 = logistic.predict(X_test)\n",
    "loss(Y_pre4,Y_test.values)\n"
   ]
  },
  {
   "cell_type": "code",
   "execution_count": 209,
   "id": "817a1343",
   "metadata": {},
   "outputs": [
    {
     "name": "stdout",
     "output_type": "stream",
     "text": [
      "0.881578947368421\n"
     ]
    }
   ],
   "source": [
    "# Random Forest\n",
    "from sklearn.ensemble import RandomForestClassifier\n",
    "forest = RandomForestClassifier(n_estimators =400,               # Number of trees\n",
    "                                max_depth=5,                     # The maximum depth of the tree\n",
    "                                min_weight_fraction_leaf=0.01,   # The minimum weighted fraction of the sum total of weights\n",
    "                                max_features=5                   # The maximum of features that will be used in each tree\n",
    "                        \n",
    ")\n",
    "forest.fit(X_train,Y_train)\n",
    "\n",
    "# find loss\n",
    "Y_pre5 = forest.predict(X_test)\n",
    "loss(Y_pre5,Y_test.values)"
   ]
  }
 ],
 "metadata": {
  "kernelspec": {
   "display_name": "Python 3 (ipykernel)",
   "language": "python",
   "name": "python3"
  },
  "language_info": {
   "codemirror_mode": {
    "name": "ipython",
    "version": 3
   },
   "file_extension": ".py",
   "mimetype": "text/x-python",
   "name": "python",
   "nbconvert_exporter": "python",
   "pygments_lexer": "ipython3",
   "version": "3.10.2"
  }
 },
 "nbformat": 4,
 "nbformat_minor": 5
}
